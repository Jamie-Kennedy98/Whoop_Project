{
 "cells": [
  {
   "cell_type": "markdown",
   "metadata": {},
   "source": [
    "### lets do some visualization"
   ]
  },
  {
   "cell_type": "code",
   "execution_count": null,
   "metadata": {},
   "outputs": [],
   "source": [
    "import pandas as pd\n",
    "import numpy as np\n",
    "import matplotlib.pyplot as plt\n",
    "import seaborn as sns"
   ]
  },
  {
   "cell_type": "code",
   "execution_count": null,
   "metadata": {},
   "outputs": [],
   "source": [
    "df = pd.read_csv(\".\\data\\cleaned_cyles.csv\")"
   ]
  },
  {
   "cell_type": "code",
   "execution_count": null,
   "metadata": {},
   "outputs": [],
   "source": [
    "df.head()"
   ]
  },
  {
   "cell_type": "markdown",
   "metadata": {},
   "source": [
    "# explore your data to understand its structure and distribution. Look at basic statistics, data visualizations, and summary tables."
   ]
  },
  {
   "cell_type": "code",
   "execution_count": null,
   "metadata": {},
   "outputs": [],
   "source": [
    "df['Cycle start time'] = pd.to_datetime(df['Cycle start time'])\n",
    "df['Cycle end time'] = pd.to_datetime(df['Cycle end time'])"
   ]
  },
  {
   "cell_type": "code",
   "execution_count": null,
   "metadata": {},
   "outputs": [],
   "source": [
    "df['Cycle end time'].max()"
   ]
  },
  {
   "cell_type": "code",
   "execution_count": null,
   "metadata": {},
   "outputs": [],
   "source": [
    "# Investigate recovery score"
   ]
  },
  {
   "cell_type": "code",
   "execution_count": null,
   "metadata": {},
   "outputs": [],
   "source": [
    "df['Recovery score %'].describe()"
   ]
  },
  {
   "cell_type": "code",
   "execution_count": null,
   "metadata": {},
   "outputs": [],
   "source": [
    "# Investigate if recovery score has any trends over time when grouped by week and month"
   ]
  },
  {
   "cell_type": "code",
   "execution_count": null,
   "metadata": {},
   "outputs": [],
   "source": [
    "\n",
    "# Group by week and calculate summary statistics\n",
    "weekly_summary = df.groupby(df['Cycle start time'].dt.strftime('%Y-%W')).agg(\n",
    "    Average_Recovery_Score=('Recovery score %', 'mean'),\n",
    "    Min_Recovery_Score=('Recovery score %', 'min'),\n",
    "    Max_Recovery_Score=('Recovery score %', 'max')\n",
    ").reset_index()\n",
    "\n",
    "# Convert the week start date to a datetime object\n",
    "weekly_summary['Week_Start_Date'] = pd.to_datetime(weekly_summary['Cycle start time'] + '-0', format='%Y-%W-%w')\n",
    "\n",
    "# Create a line plot for average, min, and max recovery scores by week\n",
    "plt.figure(figsize=(12, 6))\n",
    "\n",
    "# Plot average recovery score in blue\n",
    "plt.plot(weekly_summary['Week_Start_Date'], weekly_summary['Average_Recovery_Score'], label='Average', color='blue', marker='o', linestyle='-')\n",
    "\n",
    "# Plot min recovery score in red\n",
    "plt.plot(weekly_summary['Week_Start_Date'], weekly_summary['Min_Recovery_Score'], label='Minimum', color='red', marker='o', linestyle='-')\n",
    "\n",
    "# Plot max recovery score in green\n",
    "plt.plot(weekly_summary['Week_Start_Date'], weekly_summary['Max_Recovery_Score'], label='Maximum', color='green', marker='o', linestyle='-')\n",
    "\n",
    "plt.title('Recovery Scores by Week')\n",
    "plt.xlabel('Week Start Date')\n",
    "plt.ylabel('Recovery Score %')\n",
    "plt.grid(True)\n",
    "plt.xticks(rotation=45)\n",
    "plt.legend()\n",
    "plt.tight_layout()\n",
    "\n",
    "# Show the plot\n",
    "plt.show()\n"
   ]
  },
  {
   "cell_type": "code",
   "execution_count": null,
   "metadata": {},
   "outputs": [],
   "source": [
    "\n",
    "# Group by month and calculate summary statistics\n",
    "monthly_summary = df.groupby(df['Cycle start time'].dt.strftime('%Y-%m')).agg(\n",
    "    Average_Recovery_Score=('Recovery score %', 'mean'),\n",
    "    Min_Recovery_Score=('Recovery score %', 'min'),\n",
    "    Max_Recovery_Score=('Recovery score %', 'max')\n",
    ").reset_index()\n",
    "\n",
    "# Convert the month start date to a datetime object\n",
    "monthly_summary['Month_Start_Date'] = pd.to_datetime(monthly_summary['Cycle start time'])\n",
    "\n",
    "# Create a line plot for average, min, and max recovery scores by month\n",
    "plt.figure(figsize=(12, 6))\n",
    "\n",
    "# Plot average recovery score in blue\n",
    "plt.plot(monthly_summary['Month_Start_Date'], monthly_summary['Average_Recovery_Score'], label='Average', color='blue', marker='o', linestyle='-')\n",
    "\n",
    "# Plot min recovery score in red\n",
    "plt.plot(monthly_summary['Month_Start_Date'], monthly_summary['Min_Recovery_Score'], label='Minimum', color='red', marker='o', linestyle='-')\n",
    "\n",
    "# Plot max recovery score in green\n",
    "plt.plot(monthly_summary['Month_Start_Date'], monthly_summary['Max_Recovery_Score'], label='Maximum', color='green', marker='o', linestyle='-')\n",
    "\n",
    "plt.title('Recovery Scores by Month')\n",
    "plt.xlabel('Month Start Date')\n",
    "plt.ylabel('Recovery Score %')\n",
    "plt.grid(True)\n",
    "plt.xticks(rotation=45)\n",
    "plt.legend()\n",
    "plt.tight_layout()\n",
    "\n",
    "# Show the plot\n",
    "plt.show()\n"
   ]
  },
  {
   "cell_type": "markdown",
   "metadata": {},
   "source": [
    "# Create visualizations (e.g., line charts, histograms) to gain insights into trends and patterns in your physiological data over time."
   ]
  },
  {
   "cell_type": "code",
   "execution_count": null,
   "metadata": {},
   "outputs": [],
   "source": [
    "# Create histograms to visualize the distribution of recovery scores and sleep scores. This can help you identify whether the data follows a normal distribution or has specific patterns."
   ]
  },
  {
   "cell_type": "code",
   "execution_count": null,
   "metadata": {},
   "outputs": [],
   "source": [
    "# Select the column containing recovery scores\n",
    "recovery_scores = df['Recovery score %']\n",
    "\n",
    "# Create a histogram\n",
    "plt.figure(figsize=(10, 6))\n",
    "plt.hist(recovery_scores, bins=20, edgecolor='black', alpha=0.7)\n",
    "plt.title('Recovery Score Distribution')\n",
    "plt.xlabel('Recovery Score %')\n",
    "plt.ylabel('Frequency')\n",
    "plt.grid(True)\n",
    "plt.tight_layout()\n",
    "\n",
    "# Show the histogram\n",
    "plt.show()"
   ]
  },
  {
   "cell_type": "markdown",
   "metadata": {},
   "source": [
    " Recovery scores distribution appears to be left-skewed (meaning it has a longer tail on the left side), it's worth considering whether this skewness has any implications for my analysis or goals. Here are a few things to think about:\n",
    "\n",
    "1. Understand the Skewness:\n",
    "\n",
    "First, make sure you understand why the recovery scores are left-skewed. Is there a specific reason for this distribution? It might be due to the nature of your activities, sleep patterns, or other factors.\n",
    "\n",
    "2. Consider the Impact:\n",
    "\n",
    "Left-skewness can imply that the majority of your recovery scores are relatively high, with a few lower scores dragging the distribution to the left. Consider whether these lower scores are outliers or if they represent meaningful patterns in your data.\n",
    "\n",
    "3. Statistical Techniques:\n",
    "\n",
    "Depending on your analysis goals, you might need to account for the skewness in your data. For instance:\n",
    "If you're performing statistical tests that assume normality (e.g., t-tests or ANOVA), you could consider transforming the data (e.g., using a logarithmic transformation) to make it closer to a normal distribution.\n",
    "When fitting regression models, some models (e.g., linear regression) assume normally distributed residuals. In such cases, you might need to address the skewness in your response variable.\n",
    "Alternatively, you could use non-parametric tests or models that don't assume a specific distribution."
   ]
  },
  {
   "cell_type": "code",
   "execution_count": null,
   "metadata": {},
   "outputs": [],
   "source": [
    "# generate a heatmap to visualize the correlation matrix between recovery scores, sleep scores, and other relevant variables"
   ]
  },
  {
   "cell_type": "code",
   "execution_count": null,
   "metadata": {},
   "outputs": [],
   "source": [
    "# Select the columns for correlation analysis\n",
    "selected_columns = df[['Recovery score %', 'Resting heart rate (bpm)',\n",
    "                     'Heart rate variability (ms)', 'Skin temp (celsius)', 'Blood oxygen %',\n",
    "                     'Day Strain', 'Energy burned (cal)', 'Max HR (bpm)', 'Average HR (bpm)',\n",
    "                     'Sleep performance %','Respiratory rate (rpm)', 'Asleep duration (min)',\n",
    "                     'In bed duration (min)', 'Light sleep duration (min)',\n",
    "                     'Deep (SWS) duration (min)', 'REM duration (min)',\n",
    "                     'Awake duration (min)', 'Sleep need (min)', 'Sleep debt (min)',\n",
    "                     'Sleep efficiency %']]"
   ]
  },
  {
   "cell_type": "code",
   "execution_count": null,
   "metadata": {},
   "outputs": [],
   "source": [
    "correlation_matrix = selected_columns.corr()"
   ]
  },
  {
   "cell_type": "code",
   "execution_count": null,
   "metadata": {},
   "outputs": [],
   "source": [
    "plt.figure(figsize=(10, 8))\n",
    "sns.heatmap(correlation_matrix, annot=True, cmap='coolwarm', fmt=\".2f\", linewidths=0.5)\n",
    "plt.title('Correlation Heatmap')\n",
    "plt.show()"
   ]
  },
  {
   "cell_type": "markdown",
   "metadata": {},
   "source": [
    "Discuss the findings of this correlation matrix e.g. which variables have strong relationships"
   ]
  },
  {
   "cell_type": "markdown",
   "metadata": {},
   "source": [
    "# perform feature engineering (consider current data and external data)"
   ]
  },
  {
   "cell_type": "code",
   "execution_count": null,
   "metadata": {},
   "outputs": [],
   "source": [
    "# sleep features such as:\n",
    "# Calculate sleep duration by subtracting the \"Cycle start time\" from the \"Cycle end time.\"\n",
    "# Extract sleep quality indicators, such as the percentage of time spent in deep sleep or REM sleep.\n",
    "# Create features related to sleep consistency or disruptions, like the number of awakenings per night."
   ]
  },
  {
   "cell_type": "code",
   "execution_count": null,
   "metadata": {},
   "outputs": [],
   "source": [
    "# Create features that capture the rate of change in recovery scores, which may indicate rapid improvements or declines."
   ]
  },
  {
   "cell_type": "code",
   "execution_count": null,
   "metadata": {},
   "outputs": [],
   "source": [
    "# Calculate metrics like weekly or monthly total exercise time or intensity level."
   ]
  },
  {
   "cell_type": "code",
   "execution_count": null,
   "metadata": {},
   "outputs": [],
   "source": [
    "# get weather data from met eireann api\n",
    "\n",
    "import requests\n",
    "\n",
    "# Define the API URL with latitude and longitude for Dublin\n",
    "url = \"http://metwdb-openaccess.ichec.ie/metno-wdb2ts/locationforecast?lat=54.7210798611;long=-8.7237392806;from=2018-11-10T02:00;to=2018-11-12T12:00\"\n",
    "# http://metwdb-openaccess.ichec.ie/metno-wdb2ts/locationforecast?lat=54.7210798611;long=-8.7237392806;from=2022-12-30T12:00;to=2023-05-18T12:00\n",
    "\n",
    "# Make a GET request to the API\n",
    "response = requests.get(url)\n",
    "\n",
    "# Check the status code and process the response data\n",
    "if response.status_code == 200:\n",
    "    data = response.text  # Get the response data as text\n",
    "else:\n",
    "    print(f\"Error: {response.status_code}\")\n"
   ]
  },
  {
   "cell_type": "code",
   "execution_count": null,
   "metadata": {},
   "outputs": [],
   "source": [
    "data"
   ]
  },
  {
   "cell_type": "code",
   "execution_count": null,
   "metadata": {},
   "outputs": [],
   "source": [
    "# Time series analysis techniques can help you understand how your physiological parameters change over time. You can use techniques like autocorrelation and decomposition to identify patterns and trends."
   ]
  },
  {
   "cell_type": "markdown",
   "metadata": {},
   "source": [
    "# Recovery Analysis"
   ]
  },
  {
   "cell_type": "code",
   "execution_count": null,
   "metadata": {},
   "outputs": [],
   "source": [
    "# perform scaling"
   ]
  },
  {
   "cell_type": "code",
   "execution_count": null,
   "metadata": {},
   "outputs": [],
   "source": [
    "# Conduct statistical tests (e.g., t-tests, correlation analysis) to determine relationships between different variables."
   ]
  },
  {
   "cell_type": "code",
   "execution_count": null,
   "metadata": {},
   "outputs": [],
   "source": [
    "# Perform time series analysis, regression analysis, or machine learning models to predict future recovery or sleep patterns"
   ]
  },
  {
   "cell_type": "markdown",
   "metadata": {},
   "source": [
    "# Sleep Analysis"
   ]
  },
  {
   "cell_type": "code",
   "execution_count": null,
   "metadata": {},
   "outputs": [],
   "source": [
    "# Conduct statistical tests (e.g., t-tests, correlation analysis) to determine relationships between different variables."
   ]
  },
  {
   "cell_type": "code",
   "execution_count": null,
   "metadata": {},
   "outputs": [],
   "source": [
    "# Perform time series analysis, regression analysis, or machine learning models to predict future recovery or sleep patterns"
   ]
  },
  {
   "cell_type": "code",
   "execution_count": null,
   "metadata": {},
   "outputs": [],
   "source": []
  }
 ],
 "metadata": {
  "kernelspec": {
   "display_name": ".venv",
   "language": "python",
   "name": "python3"
  },
  "language_info": {
   "codemirror_mode": {
    "name": "ipython",
    "version": 3
   },
   "file_extension": ".py",
   "mimetype": "text/x-python",
   "name": "python",
   "nbconvert_exporter": "python",
   "pygments_lexer": "ipython3",
   "version": "3.11.2"
  },
  "orig_nbformat": 4
 },
 "nbformat": 4,
 "nbformat_minor": 2
}
