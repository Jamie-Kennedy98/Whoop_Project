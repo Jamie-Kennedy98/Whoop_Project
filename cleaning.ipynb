{
 "cells": [
  {
   "cell_type": "code",
   "execution_count": null,
   "metadata": {
    "tags": []
   },
   "outputs": [],
   "source": [
    "# note the gitignore file is a hidden file and so cannot be seen in jupyterlab. To see it you can run \"mv .gitignore.txt gitignore.txt\" in the terminal\n",
    "# https://stackoverflow.com/questions/52222461/how-to-edit-gitignore-in-jupyter-lab"
   ]
  },
  {
   "cell_type": "code",
   "execution_count": null,
   "metadata": {
    "tags": []
   },
   "outputs": [],
   "source": [
    "import pandas as pd\n",
    "import numpy as np\n",
    "import matplotlib.pyplot as plt"
   ]
  },
  {
   "cell_type": "code",
   "execution_count": null,
   "metadata": {
    "tags": []
   },
   "outputs": [],
   "source": [
    "cycles = pd.read_csv(\"data/physiological_cycles.csv\")\n",
    "journals = pd.read_csv(\"data/journal_entries.csv\")\n",
    "sleeps = pd.read_csv(\"data/sleeps.csv\")\n",
    "workouts = pd.read_csv(\"data/workouts.csv\")"
   ]
  },
  {
   "cell_type": "code",
   "execution_count": null,
   "metadata": {},
   "outputs": [],
   "source": [
    "cycles.head()"
   ]
  },
  {
   "cell_type": "code",
   "execution_count": null,
   "metadata": {},
   "outputs": [],
   "source": [
    "journals.head()"
   ]
  },
  {
   "cell_type": "code",
   "execution_count": null,
   "metadata": {},
   "outputs": [],
   "source": [
    "sleeps.head()"
   ]
  },
  {
   "cell_type": "code",
   "execution_count": null,
   "metadata": {},
   "outputs": [],
   "source": [
    "workouts.head()"
   ]
  },
  {
   "cell_type": "markdown",
   "metadata": {},
   "source": [
    "Lets start by analysing each file individually and then we could potentially see if we could combine the files aswel. Then potentially look at external data on other factors that innfluence things like recovery and sleep e.g was it sunny that day etc. Look up what factors might influence these things and see if you can find data on them. It turns out cycles actually contains all of the data we need so focus on that file."
   ]
  },
  {
   "cell_type": "markdown",
   "metadata": {},
   "source": [
    "The cycles file contains information on recovery and sleep and the factors that impact these."
   ]
  },
  {
   "cell_type": "code",
   "execution_count": null,
   "metadata": {},
   "outputs": [],
   "source": [
    "# check for na\n",
    "cycles.isna().sum()"
   ]
  },
  {
   "cell_type": "markdown",
   "metadata": {},
   "source": [
    "we see there are 6 rows that contain na's in a number of columns. Through further investigation we see that this occurs when a cycle's start time and end time are not recorded correctly e.g. end a cycle just before midnight and restart another cycle until midnight. This could be a problem so we want to investigate the lengths of cycle to see if any other weird things happen"
   ]
  },
  {
   "cell_type": "code",
   "execution_count": null,
   "metadata": {},
   "outputs": [],
   "source": [
    "# Now, let's show the rows containing any NaNs:\n",
    "cycles[cycles.isna().any(axis=1)]"
   ]
  },
  {
   "cell_type": "code",
   "execution_count": null,
   "metadata": {},
   "outputs": [],
   "source": [
    "# A very small propotion of the rows contain nans and these are not values that I could infer in other ways so I will remove them\n",
    "cycles_cleaned = cycles.dropna()\n",
    "cycles_cleaned"
   ]
  },
  {
   "cell_type": "code",
   "execution_count": null,
   "metadata": {},
   "outputs": [],
   "source": [
    "# convert date columns to datetime\n",
    "cycles_cleaned['Cycle start time'] = pd.to_datetime(cycles_cleaned['Cycle start time'], dayfirst=True)\n",
    "cycles_cleaned['Cycle end time'] = pd.to_datetime(cycles_cleaned['Cycle end time'], dayfirst=True)\n",
    "# create new date columns\n",
    "cycles_cleaned['start date'] = cycles_cleaned['Cycle start time'].dt.date\n",
    "cycles_cleaned['end date'] = cycles_cleaned['Cycle end time'].dt.date\n",
    "# create new cycle length column\n",
    "cycles_cleaned['Cycle length'] = cycles_cleaned['Cycle end time'] - cycles_cleaned['Cycle start time']"
   ]
  },
  {
   "cell_type": "code",
   "execution_count": null,
   "metadata": {},
   "outputs": [],
   "source": [
    "cycles_cleaned.head()"
   ]
  },
  {
   "cell_type": "code",
   "execution_count": null,
   "metadata": {},
   "outputs": [],
   "source": [
    "# Want to see summary stats of length of cycles to see if any naps etc.\n",
    "cycles_cleaned['Cycle length'].describe()"
   ]
  },
  {
   "cell_type": "code",
   "execution_count": null,
   "metadata": {},
   "outputs": [],
   "source": [
    "# Plot the distribution of cycle length\n",
    "plt.hist(cycles_cleaned['Cycle length'].dt.total_seconds() / 3600, bins=10, edgecolor='k')  # Convert timedelta to hours\n",
    "plt.xlabel('Cycle Length (hours)')\n",
    "plt.ylabel('Frequency')\n",
    "plt.title('Distribution of Cycle Length')\n",
    "plt.grid(True)\n",
    "plt.show()"
   ]
  },
  {
   "cell_type": "markdown",
   "metadata": {},
   "source": [
    "Through this data and all also from my understanding of how whoop is intended to work it seems that cycles are intended to be around 24 hours. Therefore I will remove any cycles with length less than 20 or greater than 30 hours. Otherwise cycles of weird lengths could skew the data e.g. a very short cycle could have a skewed recovery rate."
   ]
  },
  {
   "cell_type": "code",
   "execution_count": null,
   "metadata": {},
   "outputs": [],
   "source": [
    "filtered_df = cycles_cleaned[(cycles_cleaned['Cycle length'].dt.total_seconds() / 3600 >= 20) &(cycles_cleaned['Cycle length'].dt.total_seconds() / 3600 <= 30)]\n",
    "filtered_df"
   ]
  },
  {
   "cell_type": "code",
   "execution_count": null,
   "metadata": {},
   "outputs": [],
   "source": [
    "# Plot the distribution of cycle length to check if the cycle lengths reflect the changes we made\n",
    "plt.hist(filtered_df['Cycle length'].dt.total_seconds() / 3600, bins=10, edgecolor='k')  \n",
    "plt.xlabel('Cycle Length (hours)')\n",
    "plt.ylabel('Frequency')\n",
    "plt.title('Distribution of Cycle Length')\n",
    "plt.grid(True)\n",
    "plt.show()"
   ]
  },
  {
   "cell_type": "markdown",
   "metadata": {},
   "source": [
    "We also want to do the same thing for sleep length"
   ]
  },
  {
   "cell_type": "code",
   "execution_count": null,
   "metadata": {},
   "outputs": [],
   "source": [
    "# Convert the date columns to datetime objects if they are not already\n",
    "filtered_df['Sleep onset'] = pd.to_datetime(filtered_df['Sleep onset'])\n",
    "filtered_df['Wake onset'] = pd.to_datetime(filtered_df['Wake onset'])\n",
    "\n",
    "# Calculate the sleep length in hours\n",
    "filtered_df['Sleep Length'] = (filtered_df['Wake onset'] - filtered_df['Sleep onset']).dt.total_seconds() / 3600  # Convert to hours\n",
    "filtered_df.head()"
   ]
  },
  {
   "cell_type": "code",
   "execution_count": null,
   "metadata": {},
   "outputs": [],
   "source": [
    "# Plot the distribution of sleep length\n",
    "plt.figure(figsize=(10, 6))\n",
    "plt.hist(filtered_df['Sleep Length'], bins=20, edgecolor='k', alpha=0.7)\n",
    "plt.xlabel('Sleep Length (hours)')\n",
    "plt.ylabel('Frequency')\n",
    "plt.title('Distribution of Sleep Length')\n",
    "plt.grid(True)\n",
    "plt.show()\n"
   ]
  },
  {
   "cell_type": "code",
   "execution_count": null,
   "metadata": {},
   "outputs": [],
   "source": [
    "# Filter rows with sleep length >= 4 hours as anything under 4 hours is more likely a nap\n",
    "filtered_df = filtered_df[filtered_df['Sleep Length'] >= 4]"
   ]
  },
  {
   "cell_type": "markdown",
   "metadata": {},
   "source": [
    "Remove any columns that are not important"
   ]
  },
  {
   "cell_type": "code",
   "execution_count": null,
   "metadata": {},
   "outputs": [],
   "source": [
    "filtered_df.columns"
   ]
  },
  {
   "cell_type": "code",
   "execution_count": null,
   "metadata": {},
   "outputs": [],
   "source": [
    "columns_to_drop = ['Cycle timezone']\n",
    "filtered_df = filtered_df.drop(columns=columns_to_drop)"
   ]
  },
  {
   "cell_type": "markdown",
   "metadata": {},
   "source": [
    "Next we can check for outliers"
   ]
  },
  {
   "cell_type": "code",
   "execution_count": null,
   "metadata": {},
   "outputs": [],
   "source": [
    "import matplotlib.pyplot as plt\n",
    "\n",
    "# List of variables to create box plots for\n",
    "variables_to_plot = ['Recovery score %', 'Resting heart rate (bpm)',\n",
    "                     'Heart rate variability (ms)', 'Skin temp (celsius)', 'Blood oxygen %',\n",
    "                     'Day Strain', 'Energy burned (cal)', 'Max HR (bpm)', 'Average HR (bpm)',\n",
    "                     'Sleep performance %','Respiratory rate (rpm)', 'Asleep duration (min)',\n",
    "                     'In bed duration (min)', 'Light sleep duration (min)',\n",
    "                     'Deep (SWS) duration (min)', 'REM duration (min)',\n",
    "                     'Awake duration (min)', 'Sleep need (min)', 'Sleep debt (min)',\n",
    "                     'Sleep efficiency %']\n",
    "\n",
    "# Create subplots for the box plots\n",
    "fig, axes = plt.subplots(nrows=len(variables_to_plot), figsize=(8, 4 * len(variables_to_plot)))\n",
    "\n",
    "# Create box plots for each variable\n",
    "for i, variable in enumerate(variables_to_plot):\n",
    "    axes[i].boxplot(filtered_df[variable])\n",
    "    axes[i].set_title(f\"Box Plot of {variable}\")\n",
    "    axes[i].set_ylabel(variable)\n",
    "\n",
    "# Adjust the layout to prevent overlapping titles\n",
    "plt.tight_layout()\n",
    "\n",
    "# Show the plots\n",
    "plt.show()\n"
   ]
  },
  {
   "cell_type": "markdown",
   "metadata": {},
   "source": [
    "It appears that there are a number of revoery scores that are quite low so let's investigate that."
   ]
  },
  {
   "cell_type": "code",
   "execution_count": null,
   "metadata": {},
   "outputs": [],
   "source": [
    "filtered_df[filtered_df['Recovery score %']<20]"
   ]
  },
  {
   "cell_type": "markdown",
   "metadata": {},
   "source": [
    "I know (from my own experience) that a recovery score is often extremely low after drinking alcohol. Therefore it could be useful to include the journal data here. It is important here to ensure the cycles match accross the different datasets."
   ]
  },
  {
   "cell_type": "code",
   "execution_count": null,
   "metadata": {},
   "outputs": [],
   "source": [
    "columns_to_drop = ['Cycle timezone', 'Notes']\n",
    "journals = journals.drop(columns=columns_to_drop)"
   ]
  },
  {
   "cell_type": "code",
   "execution_count": null,
   "metadata": {},
   "outputs": [],
   "source": [
    "journals.head()"
   ]
  },
  {
   "cell_type": "code",
   "execution_count": null,
   "metadata": {},
   "outputs": [],
   "source": [
    "# Pivot the DataFrame to get the desired format\n",
    "journals = journals.pivot(index=['Cycle start time', 'Cycle end time'], columns='Question text', values='Answered yes').reset_index()\n",
    "journals"
   ]
  },
  {
   "cell_type": "code",
   "execution_count": null,
   "metadata": {},
   "outputs": [],
   "source": [
    "print(\"By using an inner merge as opposed to a left merge we lose\",len(filtered_df)- len(journals), \"of the\",len(filtered_df),\"rows.\" )"
   ]
  },
  {
   "cell_type": "markdown",
   "metadata": {},
   "source": [
    "We want to combine the cycles data with the journals data. By doing this we will reduce the size of our data but I think in this situation it is acceptable because the journal questions are crucial in understanding the cycles data. However it would obviously be much better if we had more data."
   ]
  },
  {
   "cell_type": "code",
   "execution_count": null,
   "metadata": {},
   "outputs": [],
   "source": [
    "# convert date columns to datetime\n",
    "journals['Cycle start time'] = pd.to_datetime(journals['Cycle start time'], dayfirst=True)\n",
    "journals['Cycle end time'] = pd.to_datetime(journals['Cycle end time'], dayfirst=True)"
   ]
  },
  {
   "cell_type": "code",
   "execution_count": null,
   "metadata": {},
   "outputs": [],
   "source": [
    "merged_df = filtered_df.merge(journals, on=['Cycle start time', 'Cycle end time'], how='inner')\n",
    "#merged_df = merged_df.fillna(False)"
   ]
  },
  {
   "cell_type": "code",
   "execution_count": null,
   "metadata": {},
   "outputs": [],
   "source": [
    "merged_df"
   ]
  },
  {
   "cell_type": "markdown",
   "metadata": {},
   "source": [
    "Lokk at outliers in new data"
   ]
  },
  {
   "cell_type": "code",
   "execution_count": null,
   "metadata": {},
   "outputs": [],
   "source": [
    "# List of variables to create box plots for\n",
    "variables_to_plot = ['Recovery score %', 'Resting heart rate (bpm)',\n",
    "                     'Heart rate variability (ms)', 'Skin temp (celsius)', 'Blood oxygen %',\n",
    "                     'Day Strain', 'Energy burned (cal)', 'Max HR (bpm)', 'Average HR (bpm)',\n",
    "                     'Sleep performance %','Respiratory rate (rpm)', 'Asleep duration (min)',\n",
    "                     'In bed duration (min)', 'Light sleep duration (min)',\n",
    "                     'Deep (SWS) duration (min)', 'REM duration (min)',\n",
    "                     'Awake duration (min)', 'Sleep need (min)', 'Sleep debt (min)',\n",
    "                     'Sleep efficiency %']\n",
    "\n",
    "# Create subplots for the box plots\n",
    "fig, axes = plt.subplots(nrows=len(variables_to_plot), figsize=(8, 4 * len(variables_to_plot)))\n",
    "\n",
    "# Create box plots for each variable\n",
    "for i, variable in enumerate(variables_to_plot):\n",
    "    axes[i].boxplot(merged_df[variable])\n",
    "    axes[i].set_title(f\"Box Plot of {variable}\")\n",
    "    axes[i].set_ylabel(variable)\n",
    "\n",
    "# Adjust the layout to prevent overlapping titles\n",
    "plt.tight_layout()\n",
    "\n",
    "# Show the plots\n",
    "plt.show()"
   ]
  },
  {
   "cell_type": "code",
   "execution_count": null,
   "metadata": {},
   "outputs": [],
   "source": [
    "merged_df[merged_df['Recovery score %']<40]"
   ]
  },
  {
   "cell_type": "markdown",
   "metadata": {},
   "source": [
    "We will look into this more but it does seem like some factors such as alcohol can decrease recovery score so I am not going to remove these outliers for now."
   ]
  },
  {
   "cell_type": "code",
   "execution_count": null,
   "metadata": {},
   "outputs": [],
   "source": [
    "merged_df[merged_df['Resting heart rate (bpm)']>55]\n"
   ]
  },
  {
   "cell_type": "markdown",
   "metadata": {},
   "source": [
    "Again I am happy these outliers could related to factors such as alcohol consumption."
   ]
  },
  {
   "cell_type": "code",
   "execution_count": null,
   "metadata": {},
   "outputs": [],
   "source": [
    "merged_df.to_csv(\"./data/cleaned_cyles.csv\")"
   ]
  },
  {
   "cell_type": "code",
   "execution_count": null,
   "metadata": {},
   "outputs": [],
   "source": []
  }
 ],
 "metadata": {
  "kernelspec": {
   "display_name": "conda_pytorch_p310",
   "language": "python",
   "name": "conda_pytorch_p310"
  },
  "language_info": {
   "codemirror_mode": {
    "name": "ipython",
    "version": 3
   },
   "file_extension": ".py",
   "mimetype": "text/x-python",
   "name": "python",
   "nbconvert_exporter": "python",
   "pygments_lexer": "ipython3",
   "version": "3.10.12"
  }
 },
 "nbformat": 4,
 "nbformat_minor": 4
}
